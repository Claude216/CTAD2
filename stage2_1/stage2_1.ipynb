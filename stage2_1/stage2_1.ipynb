{
 "cells": [
  {
   "cell_type": "code",
   "execution_count": 1,
   "metadata": {},
   "outputs": [],
   "source": [
    "# in this file, we do: \n",
    "# 1. implement the Adaptive GA to optimize chiplet design layout\n",
    "#   a. implement fitness function\n",
    "#       i. how do we measure fitness? \n",
    "#           - max temperature (done)\n",
    "#           - Temperature distribution uniformity (done)\n",
    "#           - total interconnect length between chips (temp done, with all connected situation)\n",
    "#               - the closest edges' mid point interline lengths\n",
    "#           - how to calculate above?\n",
    "#               - can we do it faster?\n",
    "#   b. for each operation in GA: \n",
    "#       i. selection: \n",
    "#           - elite selection?\n",
    "#       ii. crossover\n",
    "#           - rate of crossover?\n",
    "#           - increase?\n",
    "#       iii. mutation\n",
    "#           - rate of mutation?\n",
    "#           - decay?\n",
    "#           - opeartions: \n",
    "#               - add a random value to the horizontal or vertical coordinate\n",
    "#               - rotate the chiplet 90 degree clockwise \n",
    "#               - swap the position of two chiplets\n",
    "#               - move the position of a chiplet randomly\n",
    "#   c. make the codes adaptive to various number of chiplets cases\n",
    "#       i. the unit length / the edge length of a minimum grid on the board\n",
    "\n",
    "# ii. temperature distribution visualization "
   ]
  },
  {
   "cell_type": "code",
   "execution_count": 2,
   "metadata": {},
   "outputs": [
    {
     "name": "stderr",
     "output_type": "stream",
     "text": [
      "d:\\project\\XDU_LX\\C-TAD\\stage2_1\\InChipModel.py:36: FutureWarning: You are using `torch.load` with `weights_only=False` (the current default value), which uses the default pickle module implicitly. It is possible to construct malicious pickle data which will execute arbitrary code during unpickling (See https://github.com/pytorch/pytorch/blob/main/SECURITY.md#untrusted-models for more details). In a future release, the default value for `weights_only` will be flipped to `True`. This limits the functions that could be executed during unpickling. Arbitrary objects will no longer be allowed to be loaded via this mode unless they are explicitly allowlisted by the user via `torch.serialization.add_safe_globals`. We recommend you start setting `weights_only=True` for any use case where you don't have full control of the loaded file. Please open an issue on GitHub for any issues related to this experimental feature.\n",
      "  inchip_pred_model.load_state_dict(torch.load(inchip_model_weight_file_path))\n"
     ]
    }
   ],
   "source": [
    "import ExponentialDecayModel as EDM\n",
    "import InChipModel as ICM\n",
    "import torch\n",
    "import pandas\n",
    "import utilities\n",
    "import numpy as np\n",
    "import math\n",
    "import temperature_calculator as temp_cal\n",
    "import interconnect_calculator as inter_cal\n",
    "import random\n",
    "import copy\n",
    "from multiprocessing import Pool   \n",
    "from concurrent.futures import ProcessPoolExecutor\n"
   ]
  },
  {
   "cell_type": "code",
   "execution_count": 3,
   "metadata": {},
   "outputs": [],
   "source": [
    "import warnings\n",
    "from tqdm import tqdm\n",
    "warnings.filterwarnings(\"ignore\", message=\".*does not have valid feature names.*\")\n"
   ]
  },
  {
   "cell_type": "code",
   "execution_count": 4,
   "metadata": {},
   "outputs": [],
   "source": [
    "# fitness function: \n",
    "\n",
    "# get the max temperature\n",
    "\n",
    "# get the temperature uniformity\n",
    "\n",
    "# get the total interconnect length\n"
   ]
  },
  {
   "cell_type": "code",
   "execution_count": 5,
   "metadata": {},
   "outputs": [],
   "source": [
    "# constraints\n",
    "\n",
    "\n",
    "def is_overlapping(chip1, chip2, min_edge_dist:float=0.2): \n",
    "    \"\"\"\n",
    "    Check if two chiplets are overlapping.\n",
    "    input: \n",
    "        chip1: the first chiplet\n",
    "        chip2: the second chiplet\n",
    "        min_edge_dist: the minimum edge distance between two chiplets\n",
    "    output: \n",
    "        True: if two chiplets are overlapping\n",
    "        False: if two chiplets are not overlapping\n",
    "    \"\"\"\n",
    "    x1, y1 = chip1[0], chip1[1]\n",
    "    w1, h1 = chip1[2], chip1[3]\n",
    "    x2, y2 = chip2[0], chip2[1]\n",
    "    w2, h2 = chip2[2], chip2[3]\n",
    "    no_overlap = (\n",
    "        x1 + w1 + min_edge_dist <= x2 or  # Chiplet1 is to the left of Chiplet2\n",
    "        x2 + w2 + min_edge_dist <= x1 or  # Chiplet2 is to the left of Chiplet1\n",
    "        y1 + h1 + min_edge_dist <= y2 or  # Chiplet1 is below Chiplet2\n",
    "        y2 + h2 + min_edge_dist <= y1     # Chiplet2 is below Chiplet1\n",
    "    )\n",
    "\n",
    "    return not no_overlap\n",
    "\n",
    "def check_overlap_within_layout(layout, chiplets):\n",
    "    \"\"\"\n",
    "    Check if there are overlapping chiplets within the layout.\n",
    "    input: \n",
    "        layout: the layout of the chiplets\n",
    "        chiplets: the chiplets\n",
    "    output: \n",
    "        True: if there are overlapping chiplets\n",
    "        False: if there are no overlapping chiplets\n",
    "    \"\"\"\n",
    "    n = len(layout)\n",
    "    # overlapping_pairs = []\n",
    "    for i in range(n):\n",
    "        for j in range(i + 1, n):  # Avoid redundant comparisons and self-comparisons\n",
    "            if is_overlapping(layout[i], layout[j]):\n",
    "                # overlapping_pairs.append((i, j))\n",
    "                return True\n",
    "    \n",
    "    # return overlapping_pairs \n",
    "    return False\n"
   ]
  },
  {
   "cell_type": "code",
   "execution_count": 6,
   "metadata": {},
   "outputs": [],
   "source": [
    "# general helper function\n",
    "def get_shape_of_board(layout, chiplets, margin_width=1.0): \n",
    "    \"\"\"\n",
    "    Get the shape of the board.\n",
    "    input: \n",
    "        layout: the layout of the chiplets\n",
    "        chiplets: the chiplets\n",
    "        margin_width: the margin width of the board\n",
    "    output: \n",
    "        the shape of the board: length and width of the board\n",
    "    \"\"\"\n",
    "    x_max, x_min, y_max, y_min = float('-inf'), float('inf'),float('-inf'),float('inf')\n",
    "\n",
    "    for chip in layout: \n",
    "        x_max = max(x_max, chip[0] + chiplets[chip[-1]]['len'])\n",
    "        x_min = min(x_min, chip[0])\n",
    "        y_max = max(y_max, chip[1] + chiplets[chip[-1]]['wid'])\n",
    "        y_min = min(y_min, chip[1])\n",
    "\n",
    "    board_len = abs(x_max - x_min) + 2 * margin_width\n",
    "    board_wid = abs(y_max - y_min) + 2 * margin_width\n",
    "\n",
    "    return [board_len, board_wid]\n",
    "\n",
    "def get_chiplet_dict(chip_length, chip_width, Convection_Film_Coefficient, Internal_Heat_Generation_Magnitude): \n",
    "    \"\"\"\n",
    "    Get the dictionary of a chiplet.\n",
    "    \"\"\"\n",
    "    chip = dict()\n",
    "    chip['len'] = chip_length\n",
    "    chip['wid'] = chip_width\n",
    "    chip['CFC'] = Convection_Film_Coefficient\n",
    "    chip['IHGM'] = Internal_Heat_Generation_Magnitude\n",
    "\n",
    "    chip['A'], chip['k'] = EDM.get_decay_curve_coef(XD1=chip['len'],\n",
    "                                                    YD1=chip['wid'],\n",
    "                                                    XD2=chip['len'],\n",
    "                                                    YD2=chip['wid'],\n",
    "                                                    Convection_Film_Coefficient=chip['CFC'],\n",
    "                                                    Internal_Heat_Generation_Magnitude=chip['IHGM'])\n",
    "\n",
    "    return chip\n",
    "\n",
    "def is_overlapping_grid(x_c, y_c, len_c, wid_c, index_c, layout, min_edge_dist): \n",
    "    \"\"\"\n",
    "    Check if a chiplet is overlapping with other chiplets in the layout.\n",
    "    \"\"\"\n",
    "    curr_chip = [x_c, y_c, len_c, wid_c, len_c >= wid_c, index_c]\n",
    "    for placed_chip in layout: \n",
    "        if is_overlapping(chip1=curr_chip, \n",
    "                          chip2=placed_chip, \n",
    "                          min_edge_dist=min_edge_dist): \n",
    "            return True\n",
    "    return False\n",
    "\n",
    "def generate_a_layout(grid_length, grid_width, chiplets: dict, min_edge_distance: float=2.0, margin_width: float=1.0): \n",
    "    \"\"\"\n",
    "    Generate a layout of chiplets.\n",
    "    input: \n",
    "        grid_length: the length of the grid\n",
    "        grid_width: the width of the grid\n",
    "        chiplets: the chiplets\n",
    "        min_edge_distance: the minimum edge distance between two chiplets\n",
    "        margin_width: the margin width of the board\n",
    "    output: \n",
    "        the layout of the chiplets\n",
    "    \"\"\"\n",
    "    layout = []\n",
    "\n",
    "    for index, chip in chiplets.items(): \n",
    "        placed = False\n",
    "        \n",
    "        while not placed: \n",
    "            if len(layout) >= 1:  \n",
    "                while True: \n",
    "                    x = random.randint(0, grid_length - chip['len'])\n",
    "                    y = random.randint(0, grid_width - chip['wid'])\n",
    "                    if not is_overlapping_grid(x, y, chip['len'], chip['wid'], index, layout, min_edge_dist=min_edge_distance): \n",
    "                        layout.append([x, y, chip['len'], chip['wid'], chip['len'] >= chip['wid'], index])\n",
    "                        placed = True\n",
    "                        break\n",
    "            else: \n",
    "                x = random.randint(0, grid_length - chip['len'])\n",
    "                y = random.randint(0, grid_width - chip['wid'])\n",
    "                layout.append([x, y, chip['len'], chip['wid'], chip['len'] >= chip['wid'], index])\n",
    "                placed = True\n",
    "\n",
    "    # 裁剪芯片板\n",
    "    # for chip in layout: \n",
    "    # x_max = max(x_max, chip[0] + chiplets[chip[-1]]['len'])\n",
    "    x_min = min(chip[0] for chip in layout)\n",
    "    # y_max = max(y_max, chip[1] + chiplets[chip[-1]]['wid'])\n",
    "    y_min = min(chip[1] for chip in layout)\n",
    "\n",
    "    x_move, y_move = x_min - margin_width, y_min - margin_width\n",
    "\n",
    "    # 更新芯片定位点位置\n",
    "    for i in range(len(layout)): \n",
    "        layout[i][0] -= x_move\n",
    "        layout[i][1] -= y_move\n",
    "    return layout\n",
    "\n",
    "def get_dynamic_coefficient(current_epoch, total_epochs):\n",
    "    if current_epoch <= total_epochs * 0.1:\n",
    "        return 1.0  # First 10% of epochs\n",
    "    elif current_epoch <= total_epochs * 0.3:\n",
    "        return 0.8  # Next 20% of epochs\n",
    "    elif current_epoch <= total_epochs * 0.5:\n",
    "        return 0.6  # Mid-point epochs\n",
    "    elif current_epoch <= total_epochs * 0.7:\n",
    "        return 0.4  # Late mid-point epochs\n",
    "    else:\n",
    "        return 0.2\n",
    "\n"
   ]
  },
  {
   "cell_type": "code",
   "execution_count": 7,
   "metadata": {},
   "outputs": [],
   "source": [
    "# GA part\n",
    "\n",
    "def fitness(layout, connectivity, chiplets): \n",
    "    \"\"\"\n",
    "    Calculate the fitness of a layout.\n",
    "    input: \n",
    "        layout: the layout of the chiplets\n",
    "        connectivity: the connectivity pairs\n",
    "        chiplets: the chiplet dictionary\n",
    "    output: \n",
    "        the fitness of the layout\n",
    "    \"\"\"\n",
    "\n",
    "    inter_connect_length = inter_cal.get_total_interconnect_length(layout=layout, connectivity_pairs=connectivity)\n",
    "    max_temp, temp_uniformity = temp_cal.get_max_temp_and_temp_uniformity(layout, chiplets)\n",
    "    \n",
    "    # add overlap penalty to the fitness\n",
    "    overlap_penalty = 10000 if check_overlap_within_layout(layout, chiplets) else 0\n",
    "\n",
    "    # add shape score to the fitness (we prefer chiplets stay closer)\n",
    "    board_len, board_wid = utilities.get_chip_board_size(layout, margin_width=1.0)\n",
    "    shape_ratio = board_len / board_wid\n",
    "    shape_score = 5 * (1/shape_ratio + shape_ratio)\n",
    "    \n",
    "    return 5.0*inter_connect_length + shape_score + overlap_penalty # + temp_uniformity + max_temp\n",
    "\n",
    "def select(population, fitnesses):\n",
    "    \"\"\"\n",
    "    Select two individuals from the population based on their fitness.\n",
    "    \"\"\"\n",
    "    return random.choices(population, weights=fitnesses, k=2)\n",
    "\n",
    "def crossover(parent1, parent2, connectivity,chiplets):\n",
    "    \"\"\"\n",
    "    Perform crossover between two parents.\n",
    "    input: \n",
    "        parent1: the first parent\n",
    "        parent2: the second parent\n",
    "        chiplets: the chiplet dictionary\n",
    "    output: \n",
    "        the two children\n",
    "    \"\"\"\n",
    "    max_attempts = len(parent1)\n",
    "    \n",
    "    result = [[parent1, fitness(parent1, connectivity, chiplets)], [parent2, fitness(parent2, connectivity, chiplets)]]\n",
    "    result.sort(key=lambda x: x[1])\n",
    "    \n",
    "    for p in range(1, max_attempts-1): \n",
    "        # point = random.randint(1, len(parent1) - 1)\n",
    "        child1 = parent1[:p] + parent2[p:]\n",
    "        child2 = parent2[:p] + parent1[p:]\n",
    "\n",
    "        \n",
    "        # child2 = parent2[:p] + parent1[p:]\n",
    "\n",
    "        if not check_overlap_within_layout(child1, chiplets): \n",
    "            temp = [child1, fitness(child1, connectivity, chiplets)]\n",
    "            if temp[1] < result[0][1]: \n",
    "                result.insert(0, temp)\n",
    "                result.pop()\n",
    "            elif temp[1] < result[1][1]: \n",
    "                result.insert(1, temp)\n",
    "                result.pop()\n",
    "            # return child1, parent1\n",
    "\n",
    "        if not check_overlap_within_layout(child2, chiplets): \n",
    "            temp = [child2, fitness(child2, connectivity, chiplets)]\n",
    "            if temp[1] < result[0][1]: \n",
    "                result.insert(0, temp)\n",
    "                result.pop()\n",
    "            elif temp[1] < result[1][1]: \n",
    "                result.insert(1, temp)\n",
    "                result.pop()\n",
    "            # return result[0][0], result[1][0]\n",
    "\n",
    "    return result[0][0], result[1][0]\n",
    "\n",
    "def mutate(individual, chiplets, curr_epoch, max_epoch, max_attempt=10, margin_width=1.0):\n",
    "    \"\"\"\n",
    "    Perform mutation on an individual.\n",
    "    input: \n",
    "        individual: the individual (layout)\n",
    "        chiplets: the chiplet dictionary\n",
    "        curr_epoch: the current epoch\n",
    "        max_epoch: the maximum epoch\n",
    "        max_attempt: the maximum attempt for a mutation\n",
    "        margin_width: the margin width of the board\n",
    "    output: \n",
    "        the mutated individual\n",
    "    \"\"\"\n",
    "    \n",
    "    for i, chiplet in enumerate(individual):  # make every chiplet has a chance to mutate\n",
    "        \n",
    "        is_mutated = random.random() < 0.3\n",
    "\n",
    "        if is_mutated:\n",
    "            original_chip = copy.deepcopy(chiplet)\n",
    "            attempts = 0\n",
    "            while attempts < max_attempt: \n",
    "                \n",
    "                mutate_direction = random.random()\n",
    "                if mutate_direction < 0.8: # 芯片平移突变 (将芯片向水平或垂直方向移动)\n",
    "                    # index = random.randint(0, len(individual) - 1)\n",
    "                    \n",
    "                    # Decide move direction (0: horizontal, 1: vertical)\n",
    "                    move_direction = random.randint(0, 1)\n",
    "                    \n",
    "                    factor = get_dynamic_coefficient(current_epoch=curr_epoch, total_epochs=max_epoch)\n",
    "                    upper, lower = factor * 10, factor * (-10)\n",
    "                    if move_direction == 0:  # Horizontal move\n",
    "                        x_offset = random.uniform(upper, lower)\n",
    "                        individual[i][0] += x_offset\n",
    "                    else:  # Vertical move\n",
    "                        y_offset = random.uniform(upper, lower)\n",
    "                        individual[i][1] += y_offset\n",
    "\n",
    "                    # Check for overlaps\n",
    "                    if check_overlap_within_layout(individual, chiplets):\n",
    "                        # 回溯\n",
    "                        individual[i] = original_chip\n",
    "                        attempts += 1\n",
    "                        continue\n",
    "\n",
    "                    # Adjust board coordinates to ensure positive positioning\n",
    "                    x_min = min(chip[0] for chip in individual)\n",
    "                    y_min = min(chip[1] for chip in individual)\n",
    "                    \n",
    "                    # 更新芯片定位点位置\n",
    "                    for chip in individual: \n",
    "                        chip[0] -= (x_min - margin_width)\n",
    "                        chip[1] -= (y_min - margin_width)\n",
    "                    break\n",
    "                    \n",
    "                elif mutate_direction < 0.95: # 芯片换位突变 (交换任意两个芯片的定位点位置) \n",
    "\n",
    "                    swap_i = random.sample(range(len(individual)), 1)[0]\n",
    "\n",
    "                    individual[i][0], individual[swap_i][0] = individual[swap_i][0], individual[i][0]\n",
    "                    individual[swap_i][1], individual[i][1] = individual[i][1], individual[swap_i][1]\n",
    "                    \n",
    "\n",
    "                    if check_overlap_within_layout(individual, chiplets): \n",
    "                        # 回溯\n",
    "                        individual[i][0], individual[swap_i][0] = individual[swap_i][0], individual[i][0]\n",
    "                        individual[i][1], individual[swap_i][1] = individual[swap_i][1], individual[i][1]\n",
    "                        attempts += 1\n",
    "                        continue\n",
    "                    # Adjust board coordinates to ensure positive positioning\n",
    "                    x_min = min(chip[0] for chip in individual)\n",
    "                    y_min = min(chip[1] for chip in individual)\n",
    "                    \n",
    "                    # 更新芯片定位点位置\n",
    "                    for chip in individual: \n",
    "                        chip[0] -= (x_min - margin_width)\n",
    "                        chip[1] -= (y_min - margin_width)\n",
    "                    break\n",
    "                    \n",
    "                else: # 芯片旋转突变 (定位点不会改变，但是长宽位置会交换)\n",
    "                    \n",
    "                    # Swap length and width\n",
    "                    individual[i][2], individual[i][3] = individual[i][3], individual[i][2]\n",
    "                    \n",
    "                    # Check for overlaps\n",
    "                    if check_overlap_within_layout(individual, chiplets):\n",
    "                        # 回溯\n",
    "                        individual[i][2], individual[i][3] = individual[i][3], individual[i][2]\n",
    "                        attempts += 1\n",
    "                        continue\n",
    "\n",
    "                    # 更新芯片定位点位置\n",
    "                    x_min = min(chip[0] for chip in individual)\n",
    "                    y_min = min(chip[1] for chip in individual)\n",
    "                    for chip in individual: \n",
    "                        chip[0] -= (x_min - margin_width)\n",
    "                        chip[1] -= (y_min - margin_width)\n",
    "                        \n",
    "                    chiplets[individual[i][5]]['len'], chiplets[individual[i][5]]['wid'] = \\\n",
    "                        chiplets[individual[i][5]]['wid'], chiplets[individual[i][5]]['len']\n",
    "                \n",
    "    return individual\n",
    "\n",
    "def elitist_selection(population, fitnesses, num_elites):\n",
    "    \"\"\"\n",
    "    Perform elitist selection.\n",
    "    input:\n",
    "        population: List of individuals (genes).\n",
    "        fitnesses: List of fitness values corresponding to the population.\n",
    "        num_elites: Number of top individuals to preserve.\n",
    "    output:\n",
    "        List of elite individuals.\n",
    "    \"\"\"\n",
    "    # Sort population by fitness (ascending, since lower fitness is better)\n",
    "    sorted_population = [x for _, x in sorted(zip(fitnesses, population))]\n",
    "    # Preserve the top num_elites individuals\n",
    "    elites = sorted_population[:num_elites]\n",
    "    return elites\n",
    "\n",
    "def genetic_algorithm(chiplets, connectivity, generations=200, population_size=50, num_elites=5, convergence_window=20, convergence_threshold=1): \n",
    "    \"\"\"\n",
    "    Implement the genetic algorithm.\n",
    "    input: \n",
    "        chiplets: the chiplet dictionary\n",
    "        connectivity: the connectivity pairs\n",
    "        generations: the maximum generations\n",
    "        population_size: the population size\n",
    "        num_elites: the number of elites\n",
    "        convergence_window: the convergence window\n",
    "        convergence_threshold: the convergence threshold\n",
    "    output: \n",
    "        the best layout\n",
    "    \"\"\"\n",
    "    init_grid_len = (utilities.avg([chip['len'] for chip in chiplets.values()]) + 10) * len(chiplets.keys()) + 10\n",
    "    init_grid_wid = (utilities.avg([chip['wid'] for chip in chiplets.values()]) + 10) * len(chiplets.keys()) + 10\n",
    "    population = [generate_a_layout(grid_length=init_grid_len, \n",
    "                                    grid_width=init_grid_wid,\n",
    "                                    chiplets=chiplets) for _ in range(population_size)]\n",
    "    \n",
    "    best_fitness_history = []\n",
    "    \n",
    "    for k in tqdm(range(0, generations), desc=\"generation\"): \n",
    "        # print(\"interation starts\")\n",
    "        fitnesses = [fitness(layout, connectivity, chiplets) for layout in population]\n",
    "        \n",
    "        best_fitness = min(fitnesses)\n",
    "        best_fitness_history.append(best_fitness)\n",
    "\n",
    "        if len(best_fitness_history) >= convergence_window: \n",
    "            recent_window = best_fitness_history[-convergence_window:]\n",
    "            fitness_variation = (max(recent_window) - min(recent_window)) / min(recent_window)\n",
    "\n",
    "            if fitness_variation < convergence_threshold: \n",
    "                print(\"Converged\")\n",
    "                break\n",
    "\n",
    "        elites = elitist_selection(population, fitnesses, num_elites)\n",
    "\n",
    "        next_generation = elites[:]\n",
    "\n",
    "        count = 0 # use a count to avoid infinite loop during crossover and mutation\n",
    "\n",
    "        while len(next_generation) < population_size: \n",
    "            parent1, parent2 = select(population, fitnesses)\n",
    "            # parent1, parent2 = parent1, parent2\n",
    "            valid_child = False\n",
    "            # print(\"In crossover\")\n",
    "            child1, child2 = crossover(parent1, parent2, connectivity, chiplets)\n",
    "            # print(\"After crossover\")\n",
    "            if not check_overlap_within_layout(child1, chiplets): \n",
    "                # if random.random() < mutation_rate:\n",
    "                child1 = mutate(child1, chiplets, k, generations)\n",
    "                # child1.extend(get_shape_of_board(child1, chiplets))\n",
    "                next_generation.append(child1)\n",
    "                valid_child = True\n",
    "        \n",
    "            if not check_overlap_within_layout(child2, chiplets):\n",
    "                # if random.random() < mutation_rate: \n",
    "                child2 = mutate(child2, chiplets, k, generations)\n",
    "                # child2.extend(get_shape_of_board(child2, chiplets))\n",
    "                next_generation.append(child2)  \n",
    "                valid_child = True  \n",
    "\n",
    "            if not valid_child: \n",
    "                count += 1\n",
    "                if count > 100: # cannot find a valid child after 100 times, break\n",
    "                    print(\"Cannot find a valid child after 100 times, early stop generating for this generation.\")\n",
    "                    print(\"Current population size: \", len(next_generation))\n",
    "                    break\n",
    "        # print(\"interation ends\")\n",
    "        population = next_generation[:population_size]\n",
    "    \n",
    "    # parallel processing here\n",
    "    fitnesses = [fitness(layout, connectivity, chiplets) for layout in population]\n",
    "    best_index = fitnesses.index(min(fitnesses))\n",
    "    return population[best_index]\n",
    "    # return population\n"
   ]
  },
  {
   "cell_type": "code",
   "execution_count": 8,
   "metadata": {},
   "outputs": [],
   "source": [
    "# input = [\n",
    "#     # [9, 9, 15, 140000000],\n",
    "#     [6, 6, 15, 300000000],\n",
    "#     [5, 5, 15, 80000000], \n",
    "#     [4, 4, 15, 120000000]\n",
    "# ]\n",
    "# chiplets = dict()\n",
    "# chip_amount = len(input)\n",
    "# chip_settings = []\n",
    "\n",
    "# for i in range(chip_amount): \n",
    "#     chip_dict = get_chiplet_dict(chip_length=input[i][0],\n",
    "#                                  chip_width=input[i][1],\n",
    "#                                  Convection_Film_Coefficient=input[i][2],\n",
    "#                                  Internal_Heat_Generation_Magnitude=input[i][3]) # pending fill the arguments\n",
    "#     chiplets[i] = chip_dict\n",
    "# connectivity = [(0, 1), (1, 2), (0,2), ]# (0, 3), (1, 3), (2,3)]\n",
    "# popu = generate_a_layout(100, 100, chiplets)\n",
    "# popu"
   ]
  },
  {
   "cell_type": "code",
   "execution_count": 9,
   "metadata": {},
   "outputs": [
    {
     "name": "stderr",
     "output_type": "stream",
     "text": [
      "generation:   0%|          | 5/1000 [00:21<1:13:51,  4.45s/it]"
     ]
    },
    {
     "name": "stdout",
     "output_type": "stream",
     "text": [
      "Cannot find a valid child after 100 times, early stop generating for this generation.\n",
      "Current population size:  7\n"
     ]
    },
    {
     "name": "stderr",
     "output_type": "stream",
     "text": [
      "generation:   2%|▏         | 23/1000 [01:32<1:12:08,  4.43s/it]"
     ]
    },
    {
     "name": "stdout",
     "output_type": "stream",
     "text": [
      "Cannot find a valid child after 100 times, early stop generating for this generation.\n",
      "Current population size:  27\n"
     ]
    },
    {
     "name": "stderr",
     "output_type": "stream",
     "text": [
      "generation:   2%|▏         | 24/1000 [01:37<1:11:49,  4.42s/it]"
     ]
    },
    {
     "name": "stdout",
     "output_type": "stream",
     "text": [
      "Cannot find a valid child after 100 times, early stop generating for this generation.\n",
      "Current population size:  14\n"
     ]
    },
    {
     "name": "stderr",
     "output_type": "stream",
     "text": [
      "generation:   3%|▎         | 30/1000 [02:06<1:31:33,  5.66s/it]"
     ]
    },
    {
     "name": "stdout",
     "output_type": "stream",
     "text": [
      "Cannot find a valid child after 100 times, early stop generating for this generation.\n",
      "Current population size:  14\n"
     ]
    },
    {
     "name": "stderr",
     "output_type": "stream",
     "text": [
      "generation:   4%|▍         | 44/1000 [03:24<1:32:20,  5.80s/it]"
     ]
    },
    {
     "name": "stdout",
     "output_type": "stream",
     "text": [
      "Cannot find a valid child after 100 times, early stop generating for this generation.\n",
      "Current population size:  26\n"
     ]
    },
    {
     "name": "stderr",
     "output_type": "stream",
     "text": [
      "generation:   8%|▊         | 76/1000 [06:09<1:27:20,  5.67s/it]"
     ]
    },
    {
     "name": "stdout",
     "output_type": "stream",
     "text": [
      "Cannot find a valid child after 100 times, early stop generating for this generation.\n",
      "Current population size:  37\n"
     ]
    },
    {
     "name": "stderr",
     "output_type": "stream",
     "text": [
      "generation:  10%|▉         | 98/1000 [07:34<1:03:13,  4.21s/it]"
     ]
    },
    {
     "name": "stdout",
     "output_type": "stream",
     "text": [
      "Cannot find a valid child after 100 times, early stop generating for this generation.\n",
      "Current population size:  49\n"
     ]
    },
    {
     "name": "stderr",
     "output_type": "stream",
     "text": [
      "generation:  10%|█         | 102/1000 [07:54<1:13:30,  4.91s/it]"
     ]
    },
    {
     "name": "stdout",
     "output_type": "stream",
     "text": [
      "Cannot find a valid child after 100 times, early stop generating for this generation.\n",
      "Current population size:  15\n"
     ]
    },
    {
     "name": "stderr",
     "output_type": "stream",
     "text": [
      "generation:  11%|█         | 109/1000 [08:32<1:17:51,  5.24s/it]"
     ]
    },
    {
     "name": "stdout",
     "output_type": "stream",
     "text": [
      "Cannot find a valid child after 100 times, early stop generating for this generation.\n",
      "Current population size:  41\n"
     ]
    },
    {
     "name": "stderr",
     "output_type": "stream",
     "text": [
      "generation:  13%|█▎        | 132/1000 [09:57<1:02:12,  4.30s/it]"
     ]
    },
    {
     "name": "stdout",
     "output_type": "stream",
     "text": [
      "Cannot find a valid child after 100 times, early stop generating for this generation.\n",
      "Current population size:  43\n"
     ]
    },
    {
     "name": "stderr",
     "output_type": "stream",
     "text": [
      "generation:  15%|█▌        | 150/1000 [11:04<58:44,  4.15s/it]  "
     ]
    },
    {
     "name": "stdout",
     "output_type": "stream",
     "text": [
      "Cannot find a valid child after 100 times, early stop generating for this generation.\n",
      "Current population size:  32\n"
     ]
    },
    {
     "name": "stderr",
     "output_type": "stream",
     "text": [
      "generation:  15%|█▌        | 151/1000 [11:09<1:00:50,  4.30s/it]"
     ]
    },
    {
     "name": "stdout",
     "output_type": "stream",
     "text": [
      "Cannot find a valid child after 100 times, early stop generating for this generation.\n",
      "Current population size:  33\n"
     ]
    },
    {
     "name": "stderr",
     "output_type": "stream",
     "text": [
      "generation:  15%|█▌        | 152/1000 [11:13<1:01:40,  4.36s/it]"
     ]
    },
    {
     "name": "stdout",
     "output_type": "stream",
     "text": [
      "Cannot find a valid child after 100 times, early stop generating for this generation.\n",
      "Current population size:  18\n"
     ]
    },
    {
     "name": "stderr",
     "output_type": "stream",
     "text": [
      "generation:  16%|█▌        | 158/1000 [11:35<53:29,  3.81s/it]  "
     ]
    },
    {
     "name": "stdout",
     "output_type": "stream",
     "text": [
      "Cannot find a valid child after 100 times, early stop generating for this generation.\n",
      "Current population size:  8\n"
     ]
    },
    {
     "name": "stderr",
     "output_type": "stream",
     "text": [
      "generation:  16%|█▋        | 165/1000 [12:00<56:09,  4.04s/it]"
     ]
    },
    {
     "name": "stdout",
     "output_type": "stream",
     "text": [
      "Cannot find a valid child after 100 times, early stop generating for this generation.\n",
      "Current population size:  41\n"
     ]
    },
    {
     "name": "stderr",
     "output_type": "stream",
     "text": [
      "generation:  17%|█▋        | 166/1000 [12:04<56:29,  4.06s/it]"
     ]
    },
    {
     "name": "stdout",
     "output_type": "stream",
     "text": [
      "Cannot find a valid child after 100 times, early stop generating for this generation.\n",
      "Current population size:  16\n"
     ]
    },
    {
     "name": "stderr",
     "output_type": "stream",
     "text": [
      "generation:  17%|█▋        | 168/1000 [12:12<55:57,  4.04s/it]"
     ]
    },
    {
     "name": "stdout",
     "output_type": "stream",
     "text": [
      "Cannot find a valid child after 100 times, early stop generating for this generation.\n",
      "Current population size:  35\n"
     ]
    },
    {
     "name": "stderr",
     "output_type": "stream",
     "text": [
      "generation:  18%|█▊        | 180/1000 [13:00<54:03,  3.96s/it]"
     ]
    },
    {
     "name": "stdout",
     "output_type": "stream",
     "text": [
      "Cannot find a valid child after 100 times, early stop generating for this generation.\n",
      "Current population size:  17\n"
     ]
    },
    {
     "name": "stderr",
     "output_type": "stream",
     "text": [
      "generation:  18%|█▊        | 181/1000 [13:04<54:30,  3.99s/it]"
     ]
    },
    {
     "name": "stdout",
     "output_type": "stream",
     "text": [
      "Cannot find a valid child after 100 times, early stop generating for this generation.\n",
      "Current population size:  16\n"
     ]
    },
    {
     "name": "stderr",
     "output_type": "stream",
     "text": [
      "generation:  19%|█▉        | 192/1000 [13:48<1:00:21,  4.48s/it]"
     ]
    },
    {
     "name": "stdout",
     "output_type": "stream",
     "text": [
      "Cannot find a valid child after 100 times, early stop generating for this generation.\n",
      "Current population size:  8\n"
     ]
    },
    {
     "name": "stderr",
     "output_type": "stream",
     "text": [
      "generation:  20%|██        | 202/1000 [14:24<53:27,  4.02s/it]  "
     ]
    },
    {
     "name": "stdout",
     "output_type": "stream",
     "text": [
      "Cannot find a valid child after 100 times, early stop generating for this generation.\n",
      "Current population size:  37\n"
     ]
    },
    {
     "name": "stderr",
     "output_type": "stream",
     "text": [
      "generation:  20%|██        | 203/1000 [14:29<53:32,  4.03s/it]"
     ]
    },
    {
     "name": "stdout",
     "output_type": "stream",
     "text": [
      "Cannot find a valid child after 100 times, early stop generating for this generation.\n",
      "Current population size:  36\n"
     ]
    },
    {
     "name": "stderr",
     "output_type": "stream",
     "text": [
      "generation:  21%|██        | 212/1000 [14:58<42:11,  3.21s/it]"
     ]
    },
    {
     "name": "stdout",
     "output_type": "stream",
     "text": [
      "Cannot find a valid child after 100 times, early stop generating for this generation.\n",
      "Current population size:  50\n"
     ]
    },
    {
     "name": "stderr",
     "output_type": "stream",
     "text": [
      "generation:  21%|██▏       | 213/1000 [15:01<43:38,  3.33s/it]"
     ]
    },
    {
     "name": "stdout",
     "output_type": "stream",
     "text": [
      "Cannot find a valid child after 100 times, early stop generating for this generation.\n",
      "Current population size:  7\n"
     ]
    },
    {
     "name": "stderr",
     "output_type": "stream",
     "text": [
      "generation:  21%|██▏       | 214/1000 [15:04<41:21,  3.16s/it]"
     ]
    },
    {
     "name": "stdout",
     "output_type": "stream",
     "text": [
      "Cannot find a valid child after 100 times, early stop generating for this generation.\n",
      "Current population size:  12\n"
     ]
    },
    {
     "name": "stderr",
     "output_type": "stream",
     "text": [
      "generation:  22%|██▏       | 223/1000 [15:35<49:37,  3.83s/it]"
     ]
    },
    {
     "name": "stdout",
     "output_type": "stream",
     "text": [
      "Cannot find a valid child after 100 times, early stop generating for this generation.\n",
      "Current population size:  19\n"
     ]
    },
    {
     "name": "stderr",
     "output_type": "stream",
     "text": [
      "generation:  23%|██▎       | 232/1000 [16:06<48:19,  3.78s/it]"
     ]
    },
    {
     "name": "stdout",
     "output_type": "stream",
     "text": [
      "Cannot find a valid child after 100 times, early stop generating for this generation.\n",
      "Current population size:  53\n"
     ]
    },
    {
     "name": "stderr",
     "output_type": "stream",
     "text": [
      "generation:  24%|██▍       | 238/1000 [16:29<47:00,  3.70s/it]"
     ]
    },
    {
     "name": "stdout",
     "output_type": "stream",
     "text": [
      "Cannot find a valid child after 100 times, early stop generating for this generation.\n",
      "Current population size:  33\n"
     ]
    },
    {
     "name": "stderr",
     "output_type": "stream",
     "text": [
      "generation:  24%|██▍       | 240/1000 [16:36<46:50,  3.70s/it]"
     ]
    },
    {
     "name": "stdout",
     "output_type": "stream",
     "text": [
      "Cannot find a valid child after 100 times, early stop generating for this generation.\n",
      "Current population size:  9\n"
     ]
    },
    {
     "name": "stderr",
     "output_type": "stream",
     "text": [
      "generation:  24%|██▍       | 242/1000 [16:45<52:12,  4.13s/it]"
     ]
    },
    {
     "name": "stdout",
     "output_type": "stream",
     "text": [
      "Cannot find a valid child after 100 times, early stop generating for this generation.\n",
      "Current population size:  10\n"
     ]
    },
    {
     "name": "stderr",
     "output_type": "stream",
     "text": [
      "generation:  25%|██▍       | 247/1000 [17:09<1:03:28,  5.06s/it]"
     ]
    },
    {
     "name": "stdout",
     "output_type": "stream",
     "text": [
      "Cannot find a valid child after 100 times, early stop generating for this generation.\n",
      "Current population size:  24\n"
     ]
    },
    {
     "name": "stderr",
     "output_type": "stream",
     "text": [
      "generation:  25%|██▌       | 252/1000 [17:37<1:07:29,  5.41s/it]"
     ]
    },
    {
     "name": "stdout",
     "output_type": "stream",
     "text": [
      "Cannot find a valid child after 100 times, early stop generating for this generation.\n",
      "Current population size:  42\n"
     ]
    },
    {
     "name": "stderr",
     "output_type": "stream",
     "text": [
      "generation:  25%|██▌       | 253/1000 [17:40<1:01:32,  4.94s/it]"
     ]
    },
    {
     "name": "stdout",
     "output_type": "stream",
     "text": [
      "Cannot find a valid child after 100 times, early stop generating for this generation.\n",
      "Current population size:  6\n"
     ]
    },
    {
     "name": "stderr",
     "output_type": "stream",
     "text": [
      "generation:  25%|██▌       | 254/1000 [17:44<55:48,  4.49s/it]  "
     ]
    },
    {
     "name": "stdout",
     "output_type": "stream",
     "text": [
      "Cannot find a valid child after 100 times, early stop generating for this generation.\n",
      "Current population size:  6\n"
     ]
    },
    {
     "name": "stderr",
     "output_type": "stream",
     "text": [
      "generation:  26%|██▌       | 255/1000 [17:47<51:53,  4.18s/it]"
     ]
    },
    {
     "name": "stdout",
     "output_type": "stream",
     "text": [
      "Cannot find a valid child after 100 times, early stop generating for this generation.\n",
      "Current population size:  7\n"
     ]
    },
    {
     "name": "stderr",
     "output_type": "stream",
     "text": [
      "generation:  26%|██▌       | 256/1000 [17:51<49:10,  3.97s/it]"
     ]
    },
    {
     "name": "stdout",
     "output_type": "stream",
     "text": [
      "Cannot find a valid child after 100 times, early stop generating for this generation.\n",
      "Current population size:  7\n"
     ]
    },
    {
     "name": "stderr",
     "output_type": "stream",
     "text": [
      "generation:  26%|██▌       | 257/1000 [17:54<47:30,  3.84s/it]"
     ]
    },
    {
     "name": "stdout",
     "output_type": "stream",
     "text": [
      "Cannot find a valid child after 100 times, early stop generating for this generation.\n",
      "Current population size:  10\n"
     ]
    },
    {
     "name": "stderr",
     "output_type": "stream",
     "text": [
      "generation:  26%|██▌       | 261/1000 [18:10<49:55,  4.05s/it]"
     ]
    },
    {
     "name": "stdout",
     "output_type": "stream",
     "text": [
      "Cannot find a valid child after 100 times, early stop generating for this generation.\n",
      "Current population size:  6\n"
     ]
    },
    {
     "name": "stderr",
     "output_type": "stream",
     "text": [
      "generation:  26%|██▌       | 262/1000 [18:14<51:59,  4.23s/it]"
     ]
    },
    {
     "name": "stdout",
     "output_type": "stream",
     "text": [
      "Cannot find a valid child after 100 times, early stop generating for this generation.\n",
      "Current population size:  41\n"
     ]
    },
    {
     "name": "stderr",
     "output_type": "stream",
     "text": [
      "generation:  27%|██▋       | 274/1000 [19:05<1:01:40,  5.10s/it]"
     ]
    },
    {
     "name": "stdout",
     "output_type": "stream",
     "text": [
      "Cannot find a valid child after 100 times, early stop generating for this generation.\n",
      "Current population size:  58\n"
     ]
    },
    {
     "name": "stderr",
     "output_type": "stream",
     "text": [
      "generation:  28%|██▊       | 275/1000 [19:09<58:39,  4.85s/it]  "
     ]
    },
    {
     "name": "stdout",
     "output_type": "stream",
     "text": [
      "Cannot find a valid child after 100 times, early stop generating for this generation.\n",
      "Current population size:  6\n"
     ]
    },
    {
     "name": "stderr",
     "output_type": "stream",
     "text": [
      "generation:  28%|██▊       | 276/1000 [19:13<55:01,  4.56s/it]"
     ]
    },
    {
     "name": "stdout",
     "output_type": "stream",
     "text": [
      "Cannot find a valid child after 100 times, early stop generating for this generation.\n",
      "Current population size:  8\n"
     ]
    },
    {
     "name": "stderr",
     "output_type": "stream",
     "text": [
      "generation:  28%|██▊       | 277/1000 [19:17<52:35,  4.36s/it]"
     ]
    },
    {
     "name": "stdout",
     "output_type": "stream",
     "text": [
      "Cannot find a valid child after 100 times, early stop generating for this generation.\n",
      "Current population size:  10\n"
     ]
    },
    {
     "name": "stderr",
     "output_type": "stream",
     "text": [
      "generation:  28%|██▊       | 278/1000 [19:21<50:45,  4.22s/it]"
     ]
    },
    {
     "name": "stdout",
     "output_type": "stream",
     "text": [
      "Cannot find a valid child after 100 times, early stop generating for this generation.\n",
      "Current population size:  10\n"
     ]
    },
    {
     "name": "stderr",
     "output_type": "stream",
     "text": [
      "generation:  30%|██▉       | 297/1000 [20:38<54:50,  4.68s/it]"
     ]
    },
    {
     "name": "stdout",
     "output_type": "stream",
     "text": [
      "Cannot find a valid child after 100 times, early stop generating for this generation.\n",
      "Current population size:  21\n"
     ]
    },
    {
     "name": "stderr",
     "output_type": "stream",
     "text": [
      "generation:  30%|██▉       | 298/1000 [20:42<51:07,  4.37s/it]"
     ]
    },
    {
     "name": "stdout",
     "output_type": "stream",
     "text": [
      "Cannot find a valid child after 100 times, early stop generating for this generation.\n",
      "Current population size:  12\n"
     ]
    },
    {
     "name": "stderr",
     "output_type": "stream",
     "text": [
      "generation:  30%|███       | 303/1000 [21:01<49:52,  4.29s/it]"
     ]
    },
    {
     "name": "stdout",
     "output_type": "stream",
     "text": [
      "Cannot find a valid child after 100 times, early stop generating for this generation.\n",
      "Current population size:  30\n"
     ]
    },
    {
     "name": "stderr",
     "output_type": "stream",
     "text": [
      "generation:  31%|███       | 311/1000 [21:29<45:16,  3.94s/it]"
     ]
    },
    {
     "name": "stdout",
     "output_type": "stream",
     "text": [
      "Cannot find a valid child after 100 times, early stop generating for this generation.\n",
      "Current population size:  6\n"
     ]
    },
    {
     "name": "stderr",
     "output_type": "stream",
     "text": [
      "generation:  63%|██████▎   | 631/1000 [2:40:18<2:19:09, 22.63s/it]  "
     ]
    }
   ],
   "source": [
    "# input the chiplets\n",
    "input = [\n",
    "    # [9, 9, 15, 140000000],\n",
    "    [6, 6, 15, 300000000],\n",
    "    [5, 5, 15, 80000000], \n",
    "    [4, 4, 15, 120000000]\n",
    "]\n",
    "chiplets = dict()\n",
    "chip_amount = len(input)\n",
    "chip_settings = []\n",
    "\n",
    "for i in range(chip_amount): \n",
    "    chip_dict = get_chiplet_dict(chip_length=input[i][0],\n",
    "                                 chip_width=input[i][1],\n",
    "                                 Convection_Film_Coefficient=input[i][2],\n",
    "                                 Internal_Heat_Generation_Magnitude=input[i][3]) # pending fill the arguments\n",
    "    chiplets[i] = chip_dict\n",
    "connectivity = [(0, 1), (1, 2), (0,2), ]# (0, 3), (1, 3), (2,3)]\n",
    "design = genetic_algorithm(chiplets, connectivity, \n",
    "                           population_size=20*chip_amount,\n",
    "                           num_elites=chip_amount*2, \n",
    "                           convergence_window=10*chip_amount, \n",
    "                           generations=1000,\n",
    "                           convergence_threshold=0.1)\n",
    "\n"
   ]
  },
  {
   "cell_type": "code",
   "execution_count": 14,
   "metadata": {},
   "outputs": [
    {
     "data": {
      "text/plain": [
       "[[2.2048904490116463, 1.0, 6, 6, True, 0],\n",
       " [1.0, 6.791861753959838, 5, 5, True, 1],\n",
       " [37.221973329767025, 80.94077068398344, 4, 4, True, 2]]"
      ]
     },
     "execution_count": 14,
     "metadata": {},
     "output_type": "execute_result"
    }
   ],
   "source": [
    "design"
   ]
  },
  {
   "cell_type": "code",
   "execution_count": 11,
   "metadata": {},
   "outputs": [
    {
     "data": {
      "text/plain": [
       "10845.759910574441"
      ]
     },
     "execution_count": 11,
     "metadata": {},
     "output_type": "execute_result"
    }
   ],
   "source": [
    "fitness(design, connectivity, chiplets)"
   ]
  },
  {
   "cell_type": "code",
   "execution_count": 12,
   "metadata": {},
   "outputs": [
    {
     "data": {
      "image/png": "[encoded data removed]",
      "text/plain": [
       "<Figure size 4222.2x8594.08 with 1 Axes>"
      ]
     },
     "metadata": {},
     "output_type": "display_data"
    }
   ],
   "source": [
    "utilities.show_chip_design(layout=design)"
   ]
  },
  {
   "cell_type": "code",
   "execution_count": 12,
   "metadata": {},
   "outputs": [
    {
     "data": {
      "text/plain": [
       "True"
      ]
     },
     "execution_count": 12,
     "metadata": {},
     "output_type": "execute_result"
    }
   ],
   "source": [
    "check_overlap_within_layout(layout=[[1.0, 3.7248537263516597, 6, 6, True, 0],\n",
    " [3.4656367852649437, 7.21546515999106, 5, 5, True, 1],\n",
    " [4.374604448052565, 16.674617441401175, 4, 4, True, 2]], chiplets=chiplets\n",
    ")"
   ]
  },
  {
   "cell_type": "code",
   "execution_count": 9,
   "metadata": {},
   "outputs": [],
   "source": [
    "def harmonic_mean(x): \n",
    "    return 2/(1/x + x)\n",
    "\n",
    "def plot_function(function, length=8): \n",
    "    import matplotlib.pyplot as plt\n",
    "\n",
    "    positions = [i for i in range(1, length, 1)]\n",
    "\n",
    "    results = list(map(function, positions))\n",
    "    # fig, ax = plt.subplots(figsize=(length, 2))\n",
    "\n",
    "    plt.figure(figsize=(length, 2))\n",
    "    plt.plot(positions, results, \"-\", color='red')\n",
    "    plt.grid(True)\n",
    "    plt.show()\n",
    "    "
   ]
  },
  {
   "cell_type": "code",
   "execution_count": 10,
   "metadata": {},
   "outputs": [
    {
     "data": {
      "image/png": "[encoded data removed]",
      "text/plain": [
       "<Figure size 800x200 with 1 Axes>"
      ]
     },
     "metadata": {},
     "output_type": "display_data"
    }
   ],
   "source": [
    "plot_function(harmonic_mean)"
   ]
  }
 ],
 "metadata": {
  "kernelspec": {
   "display_name": "Python 3",
   "language": "python",
   "name": "python3"
  },
  "language_info": {
   "codemirror_mode": {
    "name": "ipython",
    "version": 3
   },
   "file_extension": ".py",
   "mimetype": "text/x-python",
   "name": "python",
   "nbconvert_exporter": "python",
   "pygments_lexer": "ipython3",
   "version": "3.11.6"
  }
 },
 "nbformat": 4,
 "nbformat_minor": 2
}
